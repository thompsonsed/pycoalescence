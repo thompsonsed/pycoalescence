{
 "cells": [
  {
   "cell_type": "markdown",
   "metadata": {},
   "source": [
    "# Example simulations and analysis using pycoalescence\n",
    "\n",
    "This jupyter notebook shows a variety of full example simulations that can be run using the files provided in the *sample* folder in **pycoalescence**. They are intended to be used as templates for your own simulations."
   ]
  },
  {
   "cell_type": "markdown",
   "metadata": {},
   "source": [
    "Note that this notebook requires Python 3.x and a full install of **pycoalescence**."
   ]
  },
  {
   "cell_type": "markdown",
   "metadata": {},
   "source": [
    "First import the necessary modules"
   ]
  },
  {
   "cell_type": "code",
   "execution_count": 1,
   "metadata": {},
   "outputs": [],
   "source": [
    "import os\n",
    "\n",
    "from pycoalescence import Simulation, CoalescenceTree"
   ]
  },
  {
   "cell_type": "markdown",
   "metadata": {},
   "source": [
    "Define our input and output directories - **change these as required**"
   ]
  },
  {
   "cell_type": "code",
   "execution_count": 2,
   "metadata": {},
   "outputs": [],
   "source": [
    "input_dir = \"../../pycoalescence/tests/sample\"\n",
    "output_dir = \"output\""
   ]
  },
  {
   "cell_type": "markdown",
   "metadata": {},
   "source": [
    "## Basic spatial simulation and analysis\n",
    "\n",
    "Basic spatial simulation on just one map file, with a closed landscape. For this example we run with full logging (at 'debug' level). All other examples will be run using 'critical'\n",
    "level, which shouldn't output any information unless there is a problem.\n",
    "\n",
    "Use a speciation rate of 0.1, a dispersal of 2.0 (sigma) and 10 individuals per cell (deme).\n",
    "\n",
    "The output will be stored in *output/data_1_1.db*"
   ]
  },
  {
   "cell_type": "code",
   "execution_count": 4,
   "metadata": {},
   "outputs": [
    {
     "name": "stderr",
     "output_type": "stream",
     "text": [
      "Checking folder existance...../../pycoalescence/tests/sample/SA_sample_fine.tif exists.               \n",
      "Checking folder existance...output exists.               \n",
      "Checking folder existance...done.                                                                \n",
      "Checking for unfinished simulations...done.\n",
      "No files found containing unfinished simulations.\n",
      "*************************************************\n",
      "Setting up simulation...\n",
      "Dispersal (tau, sigma): 1, 2\n",
      "Dispersal method: normal\n",
      "Fine map\n",
      "-file: ../../pycoalescence/tests/sample/SA_sample_fine.tif\n",
      "-dimensions: (13, 13)\n",
      "-offset: (0, 0)\n",
      "Coarse map\n",
      "-file: none\n",
      "-dimensions: (13, 13)\n",
      "-offset: (0, 0)\n",
      "-scale: 1\n",
      "Sample grid\n",
      "-dimensions: (13, 13)\n",
      "-optimised area: (13, 13)\n",
      "-optimised offsets: (0, 0)\n",
      "Seed: 1\n",
      "Speciation rate: 0.1\n",
      "Job Type: 1\n",
      "Max time: 3600\n",
      "Deme: 10\n",
      "Deme sample: 1\n",
      "Output directory: output\n",
      "Disp Rel Cost: 1\n",
      "Times:  0.0\n",
      "Checking folder existance...../../pycoalescence/tests/sample/SA_sample_fine.tif exists.               \n",
      "Importing ../../pycoalescence/tests/sample/SA_sample_fine.tif \n",
      "No data value is: 0\n",
      "Getting geo transform...done.\n",
      "Affine transform is -78.375, 0.00833333, 0, 0.858333, 0, -0.00833333\n",
      "Importing ../../pycoalescence/tests/sample/SA_sample_fine.tif ...................done.\n",
      "No data value is: 0\n",
      "Getting geo transform...done.\n",
      "Affine transform is -78.375, 0.00833333, 0, 0.858333, 0, -0.00833333\n",
      "Using dispersal kernel.\n",
      "Initial count is 380980\n",
      "Setting up simulation...done.                                  \n",
      "Number of individuals simulating: 380980\n",
      "*************************************************\n",
      "Beginning simulations...done.\n",
      "Finalising data...done.\n",
      "Creating SQL database file...\n",
      "\tChecking for existing folders....\n",
      "\tGenerating species list....\n",
      "\tExecuting SQL commands....\n",
      "No additional speciation rates to apply.\n",
      "Speciation rate is: 0.1.\n",
      "Time is: 0.\n",
      "Applying speciation rate 0.1 at time 0...\n",
      "\tGenerating biodiversity...\n",
      "\tCalculating coalescence tree...\n",
      "\tAssigning species IDs...\n",
      "\tCalculating species abundances...\n",
      "\tNumber of species: 96296\n",
      "\tGenerating SPECIES_ABUNDANCES table...\n",
      "\tWriting to output/data_1_1.db...\n",
      "Total generations simulated (steps): 191.025 (963375)\n",
      "Setup time was 0 minutes 0 seconds\n",
      "Simulation time was 0 hours 0 minutes 1 seconds\n",
      "File output and species calculation time was 0 minutes 1 seconds\n",
      "SQL output time was 0 minutes 0 seconds\n",
      "Total simulation and output time was 0 hours 0 minutes 2 seconds\n"
     ]
    }
   ],
   "source": [
    "sim1 = Simulation(logging_level=10)\n",
    "sim1.set_simulation_parameters(seed=1, task=1, output_directory=output_dir, min_speciation_rate=0.1,\n",
    "\t\t\t\t\t\t\t   sigma=2.0, deme=10)\n",
    "# Use automatic detection of the map file dimensions\n",
    "sim1.set_map(os.path.join(input_dir, \"SA_sample_fine.tif\"))\n",
    "sim1.run()"
   ]
  },
  {
   "cell_type": "markdown",
   "metadata": {},
   "source": [
    "Re-create the coalescence tree for different speciation rates"
   ]
  },
  {
   "cell_type": "code",
   "execution_count": 5,
   "metadata": {},
   "outputs": [
    {
     "name": "stderr",
     "output_type": "stream",
     "text": [
      "No sample file provided, defaulting to null.\n",
      "No times provided, defaulting to 0.0.\n",
      "***************************\n",
      "STARTING COALESCENCE TREE CALCULATIONS\n",
      "Input file is output/data_1_1.db\n",
      "Speciation rates are: 0.1, 0.2, 0.4.\n",
      "Beginning data import...\n",
      "\tDetected 665665 events in the coalescence tree.\n",
      "Beginning data import...done.\n",
      "Getting previous calculations...previous calculations detected.\n",
      "Calculation already performed for speciation rate=0.1, time=0 and protracted parameters 0, 0\n",
      "Applying speciation rate 0.2 at time 0...\n",
      "\tGenerating biodiversity...\n",
      "\tCalculating coalescence tree...\n",
      "\tAssigning species IDs...\n",
      "\tCalculating species abundances...\n",
      "\tNumber of species: 152176\n",
      "\tGenerating SPECIES_ABUNDANCES table...\n",
      "Applying speciation rate 0.4 at time 0...\n",
      "\tGenerating biodiversity...\n",
      "\tCalculating coalescence tree...\n",
      "\tAssigning species IDs...\n",
      "\tCalculating species abundances...\n",
      "\tNumber of species: 232205\n",
      "\tGenerating SPECIES_ABUNDANCES table...\n",
      "Writing out to output/data_1_1.db...\n"
     ]
    }
   ],
   "source": [
    "tree1 = CoalescenceTree(sim1, logging_level=10)\n",
    "tree1.set_speciation_parameters(speciation_rates=[0.1, 0.2, 0.4])\n",
    "tree1.apply()"
   ]
  },
  {
   "cell_type": "markdown",
   "metadata": {},
   "source": [
    "Print out the species richness for each speciation rate by looping over our community parameters."
   ]
  },
  {
   "cell_type": "code",
   "execution_count": 6,
   "metadata": {},
   "outputs": [
    {
     "name": "stdout",
     "output_type": "stream",
     "text": [
      "Species richness for speciation rate of 0.1 is 96296\n",
      "Species richness for speciation rate of 0.2 is 152176\n",
      "Species richness for speciation rate of 0.4 is 232205\n"
     ]
    }
   ],
   "source": [
    "for reference in tree1.get_community_references():\n",
    "\tspec_rate = tree1.get_community_parameters(reference=reference)[\"speciation_rate\"]\n",
    "\tprint(\"Species richness for speciation rate of {} is {}\".format(spec_rate,\n",
    "\t\t\t\t\t\t\t\t\t\t\t\t\t\t\t\t\ttree1.get_species_richness(reference)))"
   ]
  },
  {
   "cell_type": "markdown",
   "metadata": {},
   "source": [
    "## More complex spatial example\n",
    "\n",
    "Here we use a sample area, a fine map file (defining high-resolution density around the area) and a coarse map file (defining the low-resolution density over a larger area).\n",
    "\n",
    "Additionally, we provide a historical fine and coarse maps to define the density at 100 generations in the past (with a rate of 0.5) and 200 generations in the past (with a rate of 0.0).\n",
    "\n",
    "Within the simulation, we sample the community at times 0, 50 and 100 generations in the past.\n",
    "\n",
    " The output will be stored in *output/data_1_2.db*"
   ]
  },
  {
   "cell_type": "markdown",
   "metadata": {},
   "source": [
    "Define our file paths"
   ]
  },
  {
   "cell_type": "code",
   "execution_count": 7,
   "metadata": {},
   "outputs": [],
   "source": [
    "sample_file = os.path.join(input_dir, \"SA_samplemaskINT.tif\")\n",
    "fine_file = os.path.join(input_dir, \"SA_sample_fine.tif\")\n",
    "coarse_file = os.path.join(input_dir, \"SA_sample_coarse.tif\")\n",
    "pristine_fine_file1 = os.path.join(input_dir, \"SA_sample_fine_pristine1.tif\")\n",
    "pristine_coarse_file1 = os.path.join(input_dir, \"SA_sample_coarse_pristine1.tif\")\n",
    "pristine_fine_file2 = os.path.join(input_dir, \"SA_sample_fine_pristine2.tif\")\n",
    "pristine_coarse_file2 = os.path.join(input_dir, \"SA_sample_coarse_pristine2.tif\")"
   ]
  },
  {
   "cell_type": "code",
   "execution_count": 10,
   "metadata": {},
   "outputs": [],
   "source": [
    "sim2 = Simulation(logging_level=50)\n",
    "sim2.set_simulation_parameters(seed=2, task=1, output_directory=output_dir, min_speciation_rate=0.1,\n",
    "\t\t\t\t\t\t\t   sigma=2.0, deme=1)\n",
    "sim2.set_speciation_rates([0.1, 0.2, 0.3])\n",
    "# Use automatic detection of the map file dimensions\n",
    "sim2.set_map_files(sample_file=sample_file, fine_file=fine_file, coarse_file=coarse_file)\n",
    "sim2.add_historical_map(fine_file=pristine_fine_file1, coarse_file=pristine_coarse_file1, time=100, \n",
    "\t\t\t\t\t\trate=0.5)\n",
    "sim2.add_historical_map(fine_file=pristine_fine_file2, coarse_file=pristine_coarse_file2, time=100, \n",
    "\t\t\t\t\t\trate=0.5)\n",
    "sim2.add_sample_time(50)\n",
    "sim2.add_sample_time(100)\n",
    "sim2.run()"
   ]
  },
  {
   "cell_type": "markdown",
   "metadata": {},
   "source": [
    "Print the species richness for each time and speciation rate."
   ]
  },
  {
   "cell_type": "code",
   "execution_count": 11,
   "metadata": {},
   "outputs": [
    {
     "name": "stdout",
     "output_type": "stream",
     "text": [
      "Species richness at time 0.0 with speciation rate of 0.1 is 7386.\n",
      "Species richness at time 50.0 with speciation rate of 0.1 is 7332.\n",
      "Species richness at time 100.0 with speciation rate of 0.1 is 7420.\n",
      "Species richness at time 0.0 with speciation rate of 0.2 is 8756.\n",
      "Species richness at time 50.0 with speciation rate of 0.2 is 8742.\n",
      "Species richness at time 100.0 with speciation rate of 0.2 is 8751.\n",
      "Species richness at time 0.0 with speciation rate of 0.3 is 9568.\n",
      "Species richness at time 50.0 with speciation rate of 0.3 is 9579.\n",
      "Species richness at time 100.0 with speciation rate of 0.3 is 9607.\n"
     ]
    }
   ],
   "source": [
    "tree2 = CoalescenceTree(sim2)\n",
    "for reference in tree2.get_community_references():\n",
    "\t# Contains a dictionary of the parameters\n",
    "\tcommunity_parameters = tree2.get_community_parameters(reference)\n",
    "\tspec_rate = community_parameters[\"speciation_rate\"]\n",
    "\ttime = community_parameters[\"time\"]\n",
    "\tprint(\"Species richness at time {} with speciation rate of {} is {}.\".format(time,\n",
    "\t\t\t\t\t\t\t\t\t\t\t\t\t\t\t\t\t\t\t\t spec_rate,\n",
    "\t\t\t\t\t\t\t\t\t\t\t\t\t\t\t\t\t\t\t\t tree2.get_species_richness(reference)))"
   ]
  },
  {
   "cell_type": "markdown",
   "metadata": {},
   "source": [
    "## Example using protracted speciation and a metacommunity\n",
    "\n",
    "This is the same as the first example, but with protracted speciation preventing speciation from occuring before 1000 generations, and forcing speciation to occur at 10000 generations. \n",
    "\n",
    "The coalescence tree is generated with and without a metacommunity as well."
   ]
  },
  {
   "cell_type": "code",
   "execution_count": 12,
   "metadata": {},
   "outputs": [],
   "source": [
    "sim3 = Simulation(logging_level=50)\n",
    "sim3.set_simulation_parameters(seed=3, task=1, output_directory=output_dir,\n",
    "\t\t\t\t\t\t\t   min_speciation_rate=0.1, sigma=2.0, deme=1,\n",
    "\t\t\t\t\t\t\t   protracted=True, min_speciation_gen=1000, max_speciation_gen=10000)\n",
    "sim3.set_speciation_rates([0.1, 0.2, 0.3])\n",
    "# Use automatic detection of the map file dimensions\n",
    "sim3.set_map(os.path.join(input_dir, \"SA_sample_fine.tif\"))\n",
    "sim3.run()"
   ]
  },
  {
   "cell_type": "markdown",
   "metadata": {},
   "source": [
    "Re-create the coalescence tree using sampling from a metacommunity instead of a speciation rate."
   ]
  },
  {
   "cell_type": "code",
   "execution_count": 13,
   "metadata": {},
   "outputs": [],
   "source": [
    "tree3 = CoalescenceTree(sim3)\n",
    "tree3.set_speciation_parameters(speciation_rates=[0.1, 0.2, 0.3], protracted_speciation_min=1000, \n",
    "\t\t\t\t\t\t\t\tprotracted_speciation_max=10000, metacommunity_speciation_rate=0.001,\n",
    "\t\t\t\t\t\t\t\tmetacommunity_size=100000)\n",
    "tree3.add_protracted_parameters(10, 5000)\n",
    "tree3.add_protracted_parameters(50, 800)\n",
    "tree3.apply()"
   ]
  },
  {
   "cell_type": "markdown",
   "metadata": {},
   "source": [
    "Print out the species richness for each parameter set"
   ]
  },
  {
   "cell_type": "code",
   "execution_count": 15,
   "metadata": {},
   "outputs": [
    {
     "name": "stdout",
     "output_type": "stream",
     "text": [
      "Speciation rate of 0.1, (min gen=1000.0, max gen=10000.0)\n",
      "Species richness: 71\n",
      "Speciation rate of 0.2, (min gen=1000.0, max gen=10000.0)\n",
      "Species richness: 71\n",
      "Speciation rate of 0.3, (min gen=1000.0, max gen=10000.0)\n",
      "Species richness: 71\n",
      "Speciation rate of 0.1, (min gen=1000.0, max gen=10000.0)\n",
      "Metacommunity used of size 100000.0 with speciation rate 0.001.\n",
      "Species richness: 61\n",
      "Speciation rate of 0.2, (min gen=1000.0, max gen=10000.0)\n",
      "Metacommunity used of size 100000.0 with speciation rate 0.001.\n",
      "Species richness: 52\n",
      "Speciation rate of 0.3, (min gen=1000.0, max gen=10000.0)\n",
      "Metacommunity used of size 100000.0 with speciation rate 0.001.\n",
      "Species richness: 52\n",
      "Speciation rate of 0.1, (min gen=10.0, max gen=5000.0)\n",
      "Metacommunity used of size 100000.0 with speciation rate 0.001.\n",
      "Species richness: 376\n",
      "Speciation rate of 0.2, (min gen=10.0, max gen=5000.0)\n",
      "Metacommunity used of size 100000.0 with speciation rate 0.001.\n",
      "Species richness: 405\n",
      "Speciation rate of 0.3, (min gen=10.0, max gen=5000.0)\n",
      "Metacommunity used of size 100000.0 with speciation rate 0.001.\n",
      "Species richness: 422\n",
      "Speciation rate of 0.1, (min gen=50.0, max gen=800.0)\n",
      "Metacommunity used of size 100000.0 with speciation rate 0.001.\n",
      "Species richness: 259\n",
      "Speciation rate of 0.2, (min gen=50.0, max gen=800.0)\n",
      "Metacommunity used of size 100000.0 with speciation rate 0.001.\n",
      "Species richness: 274\n",
      "Speciation rate of 0.3, (min gen=50.0, max gen=800.0)\n",
      "Metacommunity used of size 100000.0 with speciation rate 0.001.\n",
      "Species richness: 280\n"
     ]
    }
   ],
   "source": [
    "for reference in tree3.get_community_references():\n",
    "\tparams = tree3.get_community_parameters(reference)\n",
    "\tspec_rate = params[\"speciation_rate\"]\n",
    "\tproc_min = params[\"min_speciation_gen\"]\n",
    "\tproc_max = params[\"max_speciation_gen\"]\n",
    "\tprint(\"Speciation rate of {}, (min gen={}, max gen={})\".format(spec_rate, proc_min, proc_max))\n",
    "\tif params[\"metacommunity_reference\"] != 0:\n",
    "\t\tmeta_params = tree3.get_metacommunity_parameters(params[\"metacommunity_reference\"])\n",
    "\t\tmeta_spec = meta_params[\"speciation_rate\"]\n",
    "\t\tmeta_size = meta_params[\"metacommunity_size\"]\n",
    "\t\tprint(\"Metacommunity used of size {} with speciation rate {}.\".format(meta_size, meta_spec))\n",
    "\tprint(\"Species richness: {}\".format(tree3.get_species_richness(reference)))"
   ]
  },
  {
   "cell_type": "markdown",
   "metadata": {},
   "source": [
    "### Clean up\n",
    "\n",
    "Delete the objects from memory to clear from RAM - this is not usually required as objects will be deleted when they fall out of scope.\n",
    "\t"
   ]
  },
  {
   "cell_type": "code",
   "execution_count": 16,
   "metadata": {},
   "outputs": [],
   "source": [
    "sim1 = None\n",
    "sim2 = None\n",
    "sim3 = None\n",
    "tree1 = None\n",
    "tree2 = None\n",
    "tree3 = None"
   ]
  }
 ],
 "metadata": {
  "kernelspec": {
   "display_name": "Python 3",
   "language": "python",
   "name": "python3"
  },
  "language_info": {
   "codemirror_mode": {
    "name": "ipython",
    "version": 3
   },
   "file_extension": ".py",
   "mimetype": "text/x-python",
   "name": "python",
   "nbconvert_exporter": "python",
   "pygments_lexer": "ipython3",
   "version": "3.8.2"
  }
 },
 "nbformat": 4,
 "nbformat_minor": 4
}
